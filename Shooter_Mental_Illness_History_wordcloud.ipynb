{
  "nbformat": 4,
  "nbformat_minor": 0,
  "metadata": {
    "colab": {
      "provenance": [],
      "mount_file_id": "18UHCt231zcx2JoKBG7TQx7LNYvDFmmg1",
      "authorship_tag": "ABX9TyOwVmYK1iGlE34x7oC9w5yY",
      "include_colab_link": true
    },
    "kernelspec": {
      "name": "python3",
      "display_name": "Python 3"
    },
    "language_info": {
      "name": "python"
    }
  },
  "cells": [
    {
      "cell_type": "markdown",
      "metadata": {
        "id": "view-in-github",
        "colab_type": "text"
      },
      "source": [
        "<a href=\"https://colab.research.google.com/github/trprince21/mass_shootings_R_data_visualizations/blob/main/Shooter_Mental_Illness_History.ipynb\" target=\"_parent\"><img src=\"https://colab.research.google.com/assets/colab-badge.svg\" alt=\"Open In Colab\"/></a>"
      ]
    },
    {
      "cell_type": "code",
      "source": [
        "from google.colab import drive\n",
        "drive.mount(\"/content/drive\")"
      ],
      "metadata": {
        "id": "hA2ZzZdOKl7M"
      },
      "execution_count": null,
      "outputs": []
    },
    {
      "cell_type": "code",
      "execution_count": 3,
      "metadata": {
        "id": "A0S6J2giI5C0"
      },
      "outputs": [],
      "source": [
        "import pandas as pd"
      ]
    },
    {
      "cell_type": "code",
      "source": [
        "path=\"/content/drive/MyDrive/DataBlog/mass_shooting_events_stanford_msa_release_06142016.csv\"\n",
        "df=pd.read_csv(path)\n",
        "df['History of Mental Illness - Detailed'].head(5)"
      ],
      "metadata": {
        "id": "EhXJ90yrJQmV"
      },
      "execution_count": null,
      "outputs": []
    },
    {
      "cell_type": "code",
      "source": [
        "import matplotlib.pyplot as plt\n",
        "from wordcloud import WordCloud, STOPWORDS , ImageColorGenerator"
      ],
      "metadata": {
        "id": "HfBksD0iK3tE"
      },
      "execution_count": 6,
      "outputs": []
    },
    {
      "cell_type": "code",
      "source": [
        "stop_w = ['a', 'as', 'NaN', 'of', 'the', 'shooter', 'Name', 'had', 'Possible', \n",
        "          'by', 'In', 'at', 'n', 'and', 'was', 'si', 'dtype', 'during', 'severa',\n",
        "          'Detailed', 'Mental', 'entered', 'object', 'History', 'Length']"
      ],
      "metadata": {
        "id": "l8c8TtAIMfKe"
      },
      "execution_count": 7,
      "outputs": []
    },
    {
      "cell_type": "code",
      "source": [
        "wordcloud = WordCloud(stopwords = stop_w, \n",
        "                      width=1600, height=800,\n",
        "                      colormap = 'winter',\n",
        "                      background_color=\"white\"\n",
        "                      ).generate(str(df['History of Mental Illness - Detailed']))"
      ],
      "metadata": {
        "id": "k01jYJi3Nt7m"
      },
      "execution_count": 8,
      "outputs": []
    },
    {
      "cell_type": "code",
      "source": [
        "plt.figure(figsize=(20,10),facecolor='k')\n",
        "plt.imshow(wordcloud,interpolation='bilinear')\n",
        "plt.axis('off')\n",
        "plt.tight_layout(pad=0)\n",
        "plt.show()"
      ],
      "metadata": {
        "id": "Yz1wac6ENxmp"
      },
      "execution_count": null,
      "outputs": []
    },
    {
      "cell_type": "code",
      "source": [
        "wordcloud.to_file(\"shooter_info_wordcloud.png\")"
      ],
      "metadata": {
        "id": "TNIx3rcfXmhL"
      },
      "execution_count": null,
      "outputs": []
    },
    {
      "cell_type": "code",
      "source": [
        "path2=\"/content/drive/MyDrive/DataBlog/mental_illness_list.txt\"\n",
        "f = open(path2)\n",
        "mental_illness_list = f.read()"
      ],
      "metadata": {
        "id": "xiNhsSMUj0Ne"
      },
      "execution_count": 11,
      "outputs": []
    },
    {
      "cell_type": "code",
      "source": [
        "wordcloud = WordCloud(width=1600, height=800,\n",
        "                      colormap = 'winter',\n",
        "                      background_color=\"white\"\n",
        "                      ).generate(str(mental_illness_list))"
      ],
      "metadata": {
        "id": "yf1EZq45Zuv9"
      },
      "execution_count": 12,
      "outputs": []
    },
    {
      "cell_type": "code",
      "source": [
        "plt.figure(figsize=(20,10),facecolor='k')\n",
        "plt.imshow(wordcloud,interpolation='bilinear')\n",
        "plt.axis('off')\n",
        "plt.tight_layout(pad=0)\n",
        "plt.show()"
      ],
      "metadata": {
        "id": "kYgPExqRaBlw"
      },
      "execution_count": null,
      "outputs": []
    },
    {
      "cell_type": "code",
      "source": [
        "from itertools import chain\n",
        "from collections import Counter\n",
        "from wordcloud import WordCloud\n",
        "\n",
        "words = {\n",
        "    \"unknown\": 114,\n",
        "    \"none\": 58,\n",
        "    \"personality disorder\": 3,\n",
        "    \"schizotypal personality disorder\": 1,\n",
        "    \"narcissistic personality disorder\": 1,\n",
        "    \"borderline personality disorder\": 3,\n",
        "    \"depression\": 31,\n",
        "    \"schizophrenia\": 24,\n",
        "    \"psychopathy\": 1,\n",
        "    \"paranoia\": 27,\n",
        "    \"insanity\": 13,\n",
        "    \"compulsivity\": 4,\n",
        "    \"anxiety\": 6,\n",
        "    \"PTSD\": 8,\n",
        "    \"bipolar disorder\": 6,\n",
        "    \"OCD\": 3,\n",
        "    \"dissociative disorder\": 2,\n",
        "    \"delusional disorder\": 15,\n",
        "    \"panic disorder\": 1,\n",
        "    \"ADHD\": 1,\n",
        "    \"sensory processing disorder\": 1,\n",
        "    \"dysphoric mania\": 1,\n",
        "    \"grandiose\": 2,\n",
        "    \"character behavior disorder\": 1,\n",
        "    \"psychosis\": 13\n",
        "}\n",
        "\n",
        "word_counts = Counter(words)\n",
        "\n",
        "wordcloud = WordCloud(width=1600, height=800,\n",
        "                      colormap='winter',\n",
        "                      background_color=\"white\"\n",
        "                      ).generate_from_frequencies(word_counts)\n",
        "\n",
        "plt.figure(figsize=(20,10),facecolor='k')\n",
        "plt.imshow(wordcloud,interpolation='bilinear')\n",
        "plt.axis('off')\n",
        "plt.tight_layout(pad=0)\n",
        "plt.show()"
      ],
      "metadata": {
        "id": "bhCJwgytlmX4"
      },
      "execution_count": null,
      "outputs": []
    },
    {
      "cell_type": "code",
      "source": [
        "wordcloud.to_file(\"shooter_mental_illness_wordcloud.png\")"
      ],
      "metadata": {
        "id": "Djws9cKZl1Ie"
      },
      "execution_count": null,
      "outputs": []
    }
  ]
}
